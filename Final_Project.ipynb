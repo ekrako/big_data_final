{
  "nbformat": 4,
  "nbformat_minor": 0,
  "metadata": {
    "colab": {
      "name": "Final Project.ipynb",
      "provenance": [],
      "collapsed_sections": [],
      "mount_file_id": "1A_vFrwu6OieLZ5e1iAhW_D8clPSquL1J",
      "authorship_tag": "ABX9TyNMqNF3FAJiZpMvvLClkJhb",
      "include_colab_link": true
    },
    "kernelspec": {
      "name": "python3",
      "display_name": "Python 3"
    },
    "language_info": {
      "name": "python"
    }
  },
  "cells": [
    {
      "cell_type": "markdown",
      "metadata": {
        "id": "view-in-github",
        "colab_type": "text"
      },
      "source": [
        "<a href=\"https://colab.research.google.com/github/ekrako/big_data_final/blob/main/Final_Project.ipynb\" target=\"_parent\"><img src=\"https://colab.research.google.com/assets/colab-badge.svg\" alt=\"Open In Colab\"/></a>"
      ]
    },
    {
      "cell_type": "markdown",
      "metadata": {
        "id": "6OR6iwUgVY0A"
      },
      "source": [
        "# Import and Install Packages"
      ]
    },
    {
      "cell_type": "code",
      "metadata": {
        "id": "trLY9lE2t6lb"
      },
      "source": [
        "import sys\n",
        "import subprocess\n",
        "import pkg_resources\n",
        "required = {'utm','kaggle','findspark','geopandas'}\n",
        "installed = {pkg.key for pkg in pkg_resources.working_set}\n",
        "missing = required - installed\n",
        " \n",
        "if missing:\n",
        "    python = sys.executable\n",
        "    subprocess.check_call([python, '-m', 'pip', 'install', *missing], stdout=subprocess.DEVNULL)\n",
        "import numpy as np\n",
        "import matplotlib.pyplot as plt\n",
        "import pandas as pd\n",
        "import requests\n",
        "import json\n",
        "import geopy.distance\n",
        "import utm\n",
        "import os\n",
        "from sklearn.metrics import r2_score\n",
        "from sklearn.metrics import confusion_matrix, accuracy_score\n",
        "import findspark\n"
      ],
      "execution_count": 2,
      "outputs": []
    },
    {
      "cell_type": "markdown",
      "metadata": {
        "id": "k6UTG5muV4Jm"
      },
      "source": [
        "# Get the data"
      ]
    },
    {
      "cell_type": "code",
      "metadata": {
        "id": "oYG4-aQBu4KU",
        "colab": {
          "base_uri": "https://localhost:8080/"
        },
        "outputId": "85f6ffd7-97dd-46ee-f731-7e83428c0e0a"
      },
      "source": [
        "kaggle_json_location='/content/drive/My Drive/Colab Notebooks/Datasets/idc/Big Data/'\n",
        " \n",
        "if 'google.colab' in str(get_ipython()):\n",
        "  !apt-get install openjdk-8-jdk-headless -qq > /dev/null\n",
        "  if not os.path.exists('./spark-3.1.2-bin-hadoop3.2.tgz'):\n",
        "    !wget -q https://downloads.apache.org/spark/spark-3.1.2/spark-3.1.2-bin-hadoop3.2.tgz\n",
        "    !tar xf spark-3.1.2-bin-hadoop3.2.tgz\n",
        "  os.environ[\"JAVA_HOME\"] = \"/usr/lib/jvm/java-8-openjdk-amd64\"\n",
        "  os.environ[\"SPARK_HOME\"] = \"/content/spark-3.1.2-bin-hadoop3.2\"\n",
        "  findspark.init()\n",
        "  from pyspark.sql import SparkSession\n",
        "  from google.colab import drive\n",
        "    # drive.mount('/content/drive')\n",
        " \n",
        "  if not os.path.exists('~/.kaggle/'):\n",
        "    !mkdir ~/.kaggle/\n",
        "  if not os.path.exists('~/.kaggle/kaggle.json'):\n",
        "    # os.popen(f\"cp '{kaggle_json_location}kaggle.json' ~/.kaggle/\")\n",
        "    !cp '/content/drive/My Drive/Colab Notebooks/Datasets/idc/Big Data/kaggle.json' ~/.kaggle/\n",
        "    !chmod 600 ~/.kaggle/kaggle.json \n",
        "if not os.path.exists('./idc_train.csv'):\n",
        "  !kaggle competitions download -c 'idc-big-data-platforms-2021-ml-competition' \n",
        "  !unzip idc_train.csv.zip\n",
        " \n",
        "spark = SparkSession.builder.master(\"local[*]\").getOrCreate()\n"
      ],
      "execution_count": 3,
      "outputs": [
        {
          "output_type": "stream",
          "text": [
            "mkdir: cannot create directory ‘/root/.kaggle/’: File exists\n"
          ],
          "name": "stdout"
        }
      ]
    },
    {
      "cell_type": "markdown",
      "metadata": {
        "id": "YRq264OYV_NH"
      },
      "source": [
        "# load train data"
      ]
    },
    {
      "cell_type": "code",
      "metadata": {
        "colab": {
          "base_uri": "https://localhost:8080/"
        },
        "id": "yBks41VLmkLz",
        "outputId": "0e9de1d5-3653-4179-bb6c-35883ac793f2"
      },
      "source": [
        "\n",
        "df = spark.read.format(\"csv\") \\\n",
        "      .option(\"header\", True) \\\n",
        "      .option(\"inferSchema\", True) \\\n",
        "      .load(\"idc_train.csv\")\n",
        "df.cache() \n",
        "df.printSchema()"
      ],
      "execution_count": 4,
      "outputs": [
        {
          "output_type": "stream",
          "text": [
            "root\n",
            " |-- key: integer (nullable = true)\n",
            " |-- fare_amount: double (nullable = true)\n",
            " |-- pickup_datetime: string (nullable = true)\n",
            " |-- pickup_longitude: double (nullable = true)\n",
            " |-- pickup_latitude: double (nullable = true)\n",
            " |-- dropoff_longitude: double (nullable = true)\n",
            " |-- dropoff_latitude: double (nullable = true)\n",
            " |-- passenger_count: integer (nullable = true)\n",
            "\n"
          ],
          "name": "stdout"
        }
      ]
    },
    {
      "cell_type": "markdown",
      "metadata": {
        "id": "rbNW-LI0WBGS"
      },
      "source": [
        "#load test data"
      ]
    },
    {
      "cell_type": "code",
      "metadata": {
        "colab": {
          "base_uri": "https://localhost:8080/"
        },
        "id": "C1ZeroTTS1mU",
        "outputId": "2a260d78-effd-44a8-ec92-6604f54fee14"
      },
      "source": [
        "test_df = spark.read.format(\"csv\") \\\n",
        "      .option(\"header\", True) \\\n",
        "      .option(\"inferSchema\", True) \\\n",
        "      .load(\"idc_test.csv\")\n",
        " \n",
        "test_df.printSchema()"
      ],
      "execution_count": 5,
      "outputs": [
        {
          "output_type": "stream",
          "text": [
            "root\n",
            " |-- key: integer (nullable = true)\n",
            " |-- pickup_datetime: string (nullable = true)\n",
            " |-- pickup_longitude: double (nullable = true)\n",
            " |-- pickup_latitude: double (nullable = true)\n",
            " |-- dropoff_longitude: double (nullable = true)\n",
            " |-- dropoff_latitude: double (nullable = true)\n",
            " |-- passenger_count: integer (nullable = true)\n",
            "\n"
          ],
          "name": "stdout"
        }
      ]
    },
    {
      "cell_type": "markdown",
      "metadata": {
        "id": "kJYghWweWKB9"
      },
      "source": [
        "# remove rows with wrong data"
      ]
    },
    {
      "cell_type": "code",
      "metadata": {
        "id": "clVvtURODW48"
      },
      "source": [
        "from pyspark.ml import  Transformer\n",
        "from pyspark.sql import DataFrame\n",
        "\n",
        "class FilterTransformer(Transformer):\n",
        "    \"\"\"\n",
        "    A custom Transformer which converts String datetime to datetime\n",
        "    \"\"\"\n",
        "\n",
        "    def __init__(self, max_lat:float,min_lat:float,\n",
        "                  max_lon:float,min_lon:float,\n",
        "                  max_fare_amount:float,min_fare_amount:float,\n",
        "                  max_passenger_count:int,min_passenger_count:int,\n",
        "                  na_drop:bool=True):\n",
        "        super(FilterTransformer, self).__init__()\n",
        "        self.max_lat = max_lat\n",
        "        self.min_lat = min_lat\n",
        "        self.max_lon = max_lon\n",
        "        self.min_lon = min_lon\n",
        "        self.max_fare_amount = max_fare_amount\n",
        "        self.min_fare_amount = min_fare_amount\n",
        "        self.max_passenger_count = max_passenger_count\n",
        "        self.min_passenger_count = min_passenger_count\n",
        "        self.na_drop = na_drop\n",
        "\n",
        "    def _transform(self, df: DataFrame) -> DataFrame:\n",
        "      if self.na_drop:\n",
        "        df=df.na.drop()\n",
        "        df=df.filter(df.pickup_latitude>self.min_lat)\n",
        "        df=df.filter(df.dropoff_latitude>self.min_lat)\n",
        "        df=df.filter(df.pickup_latitude<self.max_lat)\n",
        "        df=df.filter(df.dropoff_latitude<self.max_lat)\n",
        "        df=df.filter(df.pickup_longitude>self.min_lon)\n",
        "        df=df.filter(df.dropoff_longitude>self.min_lon)\n",
        "        df=df.filter(df.pickup_longitude<self.max_lon)\n",
        "        df=df.filter(df.dropoff_longitude<self.max_lon)\n",
        "        df=df.filter(df.passenger_count>self.min_passenger_count)\n",
        "        df=df.filter(df.passenger_count<self.max_passenger_count)\n",
        "        if 'fare_amount' in df.columns:\n",
        "          df=df.filter(df.fare_amount>self.min_fare_amount)\n",
        "          df=df.filter(df.fare_amount<self.max_fare_amount)\n",
        "      else:\n",
        "        df=df.withColumn('pickup_latitude',when(df.pickup_latitude>self.min_lat,self.min_lat).otherwise(df.pickup_latitude))\n",
        "        df=df.withColumn('dropoff_latitude',when(df.dropoff_latitude>self.min_lat,self.min_lat).otherwise(df.dropoff_latitude))\n",
        "        df=df.withColumn('pickup_latitude',when(df.pickup_latitude<self.max_lat,self.max_lat).otherwise(df.pickup_latitude))\n",
        "        df=df.withColumn('dropoff_latitude',when(df.dropoff_latitude<self.max_lat,self.max_lat).otherwise(df.dropoff_latitude))\n",
        "        df=df.withColumn('pickup_longitude',when(df.pickup_longitude>self.min_lon,self.min_lon).otherwise(df.pickup_longitude))\n",
        "        df=df.withColumn('dropoff_longitude',when(df.dropoff_longitude>self.min_lon,self.min_lon).otherwise(df.dropoff_longitude))\n",
        "        df=df.withColumn('pickup_longitude',when(df.pickup_longitude<self.max_lon,self.max_lon).otherwise(df.pickup_longitude))\n",
        "        df=df.withColumn('dropoff_longitude',when(df.dropoff_longitude<self.max_lon,self.max_lon).otherwise(df.dropoff_longitude))\n",
        "        df=df.withColumn('passenger_count',when(df.passenger_count>self.min_passenger_count,self.min_passenger_count).otherwise(df.passenger_count))\n",
        "        df=df.withColumn('passenger_count',when(df.passenger_count<self.max_passenger_count,self.max_passenger_count).otherwise(df.passenger_count))\n",
        "      return df"
      ],
      "execution_count": 47,
      "outputs": []
    },
    {
      "cell_type": "markdown",
      "metadata": {
        "id": "pb0K9iU_WE8D"
      },
      "source": [
        "# convert pickup to datetime"
      ]
    },
    {
      "cell_type": "code",
      "metadata": {
        "id": "GCQxUoT-05KE"
      },
      "source": [
        "from pyspark.ml import  Transformer\n",
        "from pyspark.sql import DataFrame\n",
        "from pyspark.sql.functions import to_timestamp\n",
        "class DateTransformer(Transformer):\n",
        "    \"\"\"\n",
        "    A custom Transformer which converts String datetime to datetime\n",
        "    \"\"\"\n",
        "\n",
        "    def __init__(self, input_col:str,output_col:str,date_format:str):\n",
        "        super(DateTransformer, self).__init__()\n",
        "        self.input_col = input_col\n",
        "        self.output_col = output_col\n",
        "        self.date_format = date_format\n",
        "\n",
        "    def _transform(self, df: DataFrame) -> DataFrame:\n",
        "        return df.withColumn(self.output_col,to_timestamp(self.input_col, self.date_format))"
      ],
      "execution_count": 11,
      "outputs": []
    },
    {
      "cell_type": "markdown",
      "metadata": {
        "id": "5OIERR61WVvr"
      },
      "source": [
        "#convert Geographic coordiantes to UTM\n",
        "\n"
      ]
    },
    {
      "cell_type": "code",
      "metadata": {
        "id": "MCmj848wA25R"
      },
      "source": [
        "from pyspark.ml import  Transformer\n",
        "import utm\n",
        "from pyspark.sql.functions import udf\n",
        "from pyspark.sql.types import StructType,StructField,FloatType\n",
        "\n",
        "utm_schema = StructType([\n",
        "    StructField(\"lat\", FloatType(), True),\n",
        "    StructField(\"lon\", FloatType(), True)\n",
        "])\n",
        "def convert_to_utm(x,y):\n",
        "  res=utm.from_latlon(x,y)\n",
        "  return res[0].item(),res[1].item()\n",
        "class UtmTransformer(Transformer):\n",
        "    \"\"\"\n",
        "    A custom Transformer which that converts geographics coorrdinates to UTM\n",
        "    \"\"\"\n",
        "\n",
        "    def __init__(self, input_lat:str,input_lon:str,\n",
        "                 output_lat:str,output_lon:str):\n",
        "        super(UtmTransformer, self).__init__()\n",
        "        self.input_lat = input_lat\n",
        "        self.input_lon = input_lon\n",
        "        self.output_lat = output_lat\n",
        "        self.output_lon = output_lon\n",
        "\n",
        "    def _transform(self, df: DataFrame) -> DataFrame:\n",
        "        utm_udf = udf(convert_to_utm, utm_schema)\n",
        "        df=df.withColumn('utm',utm_udf(self.input_lon,self.input_lat))\n",
        "        df=df.withColumn(self.output_lat,df.utm.lat)\n",
        "        df=df.withColumn(self.output_lon,df.utm.lon)\n",
        "        df=df.drop('utm')\n",
        "        return df"
      ],
      "execution_count": 12,
      "outputs": []
    },
    {
      "cell_type": "markdown",
      "metadata": {
        "id": "mvi7Gd60WeMf"
      },
      "source": [
        "# Calulate eculidian and manhatten distances"
      ]
    },
    {
      "cell_type": "code",
      "metadata": {
        "id": "ACG_c_-z3uWM"
      },
      "source": [
        "from pyspark.ml import Transformer\n",
        "from pyspark.sql.functions import sqrt,abs\n",
        "from enum import Enum\n",
        "class distType(Enum):\n",
        "  MANHATTAN=1\n",
        "  EUCLIDIAN=2\n",
        "class DistTransformer(Transformer):\n",
        "  \"\"\"\n",
        "  A custom Transformer which that calculates distance from UTM coordinates\n",
        "  \"\"\"\n",
        "\n",
        "  def __init__(self, point1_lat:str,point1_lon:str,\n",
        "                point2_lat:str,point2_lon:str,\n",
        "                output_col:str,dist_type:distType=distType.EUCLIDIAN):\n",
        "    super(DistTransformer, self).__init__()\n",
        "    self.point1_lat = point1_lat\n",
        "    self.point1_lon = point1_lon\n",
        "    self.point2_lat = point2_lat\n",
        "    self.point2_lon = point2_lon\n",
        "    self.output_col = output_col\n",
        "    self.dist_type = dist_type\n",
        "\n",
        "  def _transform(self, df: DataFrame) -> DataFrame:\n",
        "    if self.dist_type==distType.MANHATTAN:\n",
        "      df = df.withColumn(self.output_col,abs(df[self.point2_lat]-df[self.point1_lat])\n",
        "                                              +abs(df[self.point2_lon]-df[self.point1_lon]))\n",
        "      return df\n",
        "    df = df.withColumn(self.output_col,sqrt((df[self.point2_lat]-df[self.point1_lat])**2\n",
        "                                                  +(df[self.point2_lon]-df[self.point1_lon])**2))\n",
        "    return df\n",
        "\n"
      ],
      "execution_count": 25,
      "outputs": []
    },
    {
      "cell_type": "markdown",
      "metadata": {
        "id": "cJGybW7NWmcq"
      },
      "source": [
        "# extract time features from date time"
      ]
    },
    {
      "cell_type": "code",
      "metadata": {
        "id": "s-jfa15j2zNp"
      },
      "source": [
        "from pyspark.ml import  Transformer\n",
        "from typing import Callable\n",
        "\n",
        "class FuncTransformer(Transformer):\n",
        "  \"\"\"\n",
        "  A custom Transformer which that apply a function on a columns\n",
        "  \"\"\"\n",
        "\n",
        "  def __init__(self, input_col:str,output_col:str,func:Callable):\n",
        "    super(FuncTransformer, self).__init__()\n",
        "    self.input_col = input_col\n",
        "    self.output_col = output_col\n",
        "    self.func = func\n",
        "\n",
        "  def _transform(self, df: DataFrame) -> DataFrame:\n",
        "    df=df.withColumn(self.output_col,self.func(df[self.input_col]))\n",
        "    return df"
      ],
      "execution_count": 14,
      "outputs": []
    },
    {
      "cell_type": "markdown",
      "metadata": {
        "id": "-ASkSiNnWsjY"
      },
      "source": [
        "#convert fare to binary value for classifier"
      ]
    },
    {
      "cell_type": "code",
      "metadata": {
        "id": "q0UN92EZwngM"
      },
      "source": [
        "from pyspark.ml.feature import Binarizer\n",
        "binarizer = Binarizer(threshold=10, inputCol=\"fare_amount\", outputCol=\"label\")"
      ],
      "execution_count": 15,
      "outputs": []
    },
    {
      "cell_type": "markdown",
      "metadata": {
        "id": "qQZWObqVW0B8"
      },
      "source": [
        "#create Features column"
      ]
    },
    {
      "cell_type": "code",
      "metadata": {
        "id": "m7O78QzXwNZz"
      },
      "source": [
        "from pyspark.ml.linalg import Vectors\n",
        "from pyspark.ml.feature import VectorAssembler\n",
        "assembler = VectorAssembler(inputCols=[ 'passenger_count', 'pickup_lon_utm', 'pickup_lat_utm', 'dropoff_lon_utm', 'dropoff_lat_utm', 'manhattan_distance', 'euclidean_distance', 'dayofmonth',\n",
        " 'month', 'year', 'weekofyear', 'hour'],outputCol='features')"
      ],
      "execution_count": 16,
      "outputs": []
    },
    {
      "cell_type": "markdown",
      "metadata": {
        "id": "RA6MAN9ZnAhH"
      },
      "source": [
        "# create preprocessing pipline"
      ]
    },
    {
      "cell_type": "code",
      "metadata": {
        "id": "lCRFXPbXaMka"
      },
      "source": [
        "from pyspark.sql.functions import dayofmonth,hour,dayofyear,month,year,weekofyear\n",
        "from pyspark.ml import Pipeline\n",
        "filter_transfomer=FilterTransformer(42,38.9,-73,-75,100,0,100,0)\n",
        "date_transformer=DateTransformer(input_col='pickup_datetime',output_col='pickup_datetime',date_format='yyyy-MM-dd HH:mm:ss z')\n",
        "utm_pickup_ransformer=UtmTransformer(input_lat='pickup_latitude',input_lon='pickup_longitude',\n",
        "                              output_lat='pickup_lat_utm',output_lon='pickup_lon_utm')\n",
        "utm_dropoff_ransformer=UtmTransformer(input_lat='dropoff_latitude',input_lon='dropoff_longitude',\n",
        "                              output_lat='dropoff_lat_utm',output_lon='dropoff_lon_utm')\n",
        "dist_euclid_transfomer=DistTransformer('pickup_lat_utm','pickup_lon_utm','dropoff_lat_utm','dropoff_lon_utm','euclidean_distance')\n",
        "dist_man_transfomer=DistTransformer('pickup_lat_utm','pickup_lon_utm','dropoff_lat_utm','dropoff_lon_utm','manhattan_distance',dist_type=distType.MANHATTAN)\n",
        "dayofmonth_transfomer=FuncTransformer('pickup_datetime','dayofmonth',dayofmonth)\n",
        "hour_transfomer=FuncTransformer('pickup_datetime','hour',hour)\n",
        "dayofyear_transfomer=FuncTransformer('pickup_datetime','dayofyear',dayofyear)\n",
        "month_transfomer=FuncTransformer('pickup_datetime','month',month)\n",
        "year_transfomer=FuncTransformer('pickup_datetime','year',year)\n",
        "weekofyear_transfomer=FuncTransformer('pickup_datetime','weekofyear',weekofyear)\n",
        "train_pipeline = Pipeline(stages=[filter_transfomer,\n",
        "                            date_transformer, \n",
        "                            utm_pickup_ransformer, \n",
        "                            utm_dropoff_ransformer,\n",
        "                            dist_euclid_transfomer,\n",
        "                            dist_man_transfomer,\n",
        "                            dayofmonth_transfomer,\n",
        "                            hour_transfomer,\n",
        "                            dayofyear_transfomer,\n",
        "                            month_transfomer,\n",
        "                            year_transfomer,\n",
        "                            weekofyear_transfomer,\n",
        "                            assembler,\n",
        "                            binarizer])\n",
        "\n",
        "train_model=train_pipeline.fit(df)"
      ],
      "execution_count": 50,
      "outputs": []
    },
    {
      "cell_type": "code",
      "metadata": {
        "colab": {
          "base_uri": "https://localhost:8080/"
        },
        "id": "TtBunKxlpeys",
        "outputId": "83752f2f-d675-401f-f6ef-c772e9610d00"
      },
      "source": [
        "filter_transfomer=FilterTransformer(42,38.9,-73,-75,100,0,100,0)\n",
        "df1=filter_transfomer.transform(df)\n",
        "df.count()-df1.count()\n",
        "# df1.show()"
      ],
      "execution_count": 49,
      "outputs": [
        {
          "output_type": "execute_result",
          "data": {
            "text/plain": [
              "495327"
            ]
          },
          "metadata": {
            "tags": []
          },
          "execution_count": 49
        }
      ]
    },
    {
      "cell_type": "code",
      "metadata": {
        "id": "kT1poJT3xUv7"
      },
      "source": [
        "output=train_model.transform(df)"
      ],
      "execution_count": 51,
      "outputs": []
    },
    {
      "cell_type": "code",
      "metadata": {
        "id": "ioz5uBHvB7cb"
      },
      "source": [
        "if os.path.exists('/content/drive/My Drive/Colab Notebooks/Datasets/idc/Big Data/idc_train_prepared.parquet'):\n",
        "  !rm -r '/content/drive/My Drive/Colab Notebooks/Datasets/idc/Big Data/idc_train_prepared.parquet'\n",
        "# output.write.parquet('/content/drive/My Drive/Colab Notebooks/Datasets/idc/Big Data/idc_train_prepared.parquet')"
      ],
      "execution_count": null,
      "outputs": []
    },
    {
      "cell_type": "code",
      "metadata": {
        "id": "AmFsCxEHzQx1"
      },
      "source": [
        "# output = spark.read.format(\"parquet\").load('/content/drive/My Drive/Colab Notebooks/Datasets/idc/Big Data/idc_train_prepared.parquet')"
      ],
      "execution_count": 253,
      "outputs": []
    },
    {
      "cell_type": "markdown",
      "metadata": {
        "id": "9k-FGm4vXB-_"
      },
      "source": [
        "# split to train and test"
      ]
    },
    {
      "cell_type": "code",
      "metadata": {
        "id": "xE1safgwxgrh"
      },
      "source": [
        "train_data,test_data=output.randomSplit([0.8,0.2],seed=42)"
      ],
      "execution_count": 53,
      "outputs": []
    },
    {
      "cell_type": "markdown",
      "metadata": {
        "id": "Y3qNXlN2XHBR"
      },
      "source": [
        "# time and evalution methods"
      ]
    },
    {
      "cell_type": "code",
      "metadata": {
        "id": "mzmmJIJDMvs7"
      },
      "source": [
        "import datetime as dt\n",
        "def timing(f):\n",
        "  def wrapper(dataf,*args,**kwargs):\n",
        "    tic=dt.datetime.now()\n",
        "    result=f(dataf,*args,**kwargs)\n",
        "    toc=dt.datetime.now()\n",
        "    print(f\"{f.__name__} took {toc-tic}\")\n",
        "    return result\n",
        "  return wrapper"
      ],
      "execution_count": 54,
      "outputs": []
    },
    {
      "cell_type": "code",
      "metadata": {
        "id": "wYGv0oEGL1lt"
      },
      "source": [
        "from pyspark.ml.evaluation import BinaryClassificationEvaluator\n",
        "from pyspark.mllib.evaluation import MulticlassMetrics\n",
        "@timing\n",
        "def fit_and_evaluate(model,train_data,test_data,caption=\"\"):\n",
        "  fit_model =model.fit(train_data)\n",
        "  test_results= fit_model.transform(test_data)\n",
        "  preds_and_labels = test_results.select(['prediction','label'])\n",
        "  evaluator = BinaryClassificationEvaluator()\n",
        "  print(caption,'AUC:', evaluator.evaluate(test_results))     \n",
        "  preds_and_labels = test_results.select(['prediction','label'])\n",
        "  metrics = MulticlassMetrics(preds_and_labels.rdd.map(tuple))\n",
        "  cm =pd.DataFrame(metrics.confusionMatrix().toArray(),dtype='int64')\n",
        "  cm.index.rename('label',inplace=True)\n",
        "  cm.columns.rename('prediction',inplace=True)\n",
        "  print(cm)"
      ],
      "execution_count": 55,
      "outputs": []
    },
    {
      "cell_type": "markdown",
      "metadata": {
        "id": "ic8UOIG_XMLG"
      },
      "source": [
        "#Logistic Regression train and evaluate"
      ]
    },
    {
      "cell_type": "code",
      "metadata": {
        "id": "GIHxQqZFPNV4"
      },
      "source": [
        "from pyspark.ml.classification import LogisticRegression\n",
        "lr = LogisticRegression()\n",
        "fit_and_evaluate(lr,train_data,test_data,caption=\"Logistic Regression\")"
      ],
      "execution_count": null,
      "outputs": []
    },
    {
      "cell_type": "markdown",
      "metadata": {
        "id": "E6u8mrplXbbF"
      },
      "source": [
        "#Decision Tree train and evaluate"
      ]
    },
    {
      "cell_type": "code",
      "metadata": {
        "id": "QK1106e3UL-q"
      },
      "source": [
        "from pyspark.ml.classification import DecisionTreeClassifier\n",
        "dtree=DecisionTreeClassifier(maxDepth=20)\n",
        "fit_and_evaluate(dtree,train_data,test_data,caption=\"Decision Tree\")"
      ],
      "execution_count": null,
      "outputs": []
    },
    {
      "cell_type": "markdown",
      "metadata": {
        "id": "KA6jbeI3XieH"
      },
      "source": [
        "#Random Forest train and evaluate"
      ]
    },
    {
      "cell_type": "code",
      "metadata": {
        "id": "6R71tGAOSPs8"
      },
      "source": [
        "from pyspark.ml.classification import RandomForestClassifier\n",
        "rf=RandomForestClassifier()\n",
        "fit_and_evaluate(rf,train_data,test_data,caption=\"Random Forest\")"
      ],
      "execution_count": null,
      "outputs": []
    },
    {
      "cell_type": "markdown",
      "metadata": {
        "id": "Zs4v4gowXrj3"
      },
      "source": [
        "# Gradient-boosted tree train and evaluate\n",
        "\n"
      ]
    },
    {
      "cell_type": "code",
      "metadata": {
        "id": "aeYyDP9GSiQu"
      },
      "source": [
        "from pyspark.ml.classification import GBTClassifier\n",
        "gbt=GBTClassifier()\n",
        "fit_and_evaluate(gbt,train_data,test_data,caption=\"Gradient-boosted tree\")'"
      ],
      "execution_count": null,
      "outputs": []
    },
    {
      "cell_type": "markdown",
      "metadata": {
        "id": "4WQm84Z9JSvc"
      },
      "source": [
        "#Create Pandas graphs"
      ]
    },
    {
      "cell_type": "code",
      "metadata": {
        "id": "VW9mj53YReC1"
      },
      "source": [
        "%matplotlib inline\n",
        "plt.rcParams[\"figure.figsize\"] = (20,8)"
      ],
      "execution_count": null,
      "outputs": []
    },
    {
      "cell_type": "code",
      "metadata": {
        "id": "mzDgKNroJSaQ"
      },
      "source": [
        "n=10000\n",
        "gdf=output.filter(output.manhattan_distance<33000).sample(fraction=n/output.count()).toPandas()"
      ],
      "execution_count": null,
      "outputs": []
    },
    {
      "cell_type": "code",
      "metadata": {
        "colab": {
          "base_uri": "https://localhost:8080/",
          "height": 283
        },
        "id": "TuuhKVpNKlOR",
        "outputId": "784b5698-2ac7-44a6-e1ad-d48deb9e362a"
      },
      "source": [
        "gdf.fare_amount.hist(bins=20)"
      ],
      "execution_count": null,
      "outputs": [
        {
          "output_type": "execute_result",
          "data": {
            "text/plain": [
              "<matplotlib.axes._subplots.AxesSubplot at 0x7f46a67af790>"
            ]
          },
          "metadata": {
            "tags": []
          },
          "execution_count": 32
        },
        {
          "output_type": "display_data",
          "data": {
            "image/png": "[encoded data removed]",
            "text/plain": [
              "<Figure size 432x288 with 1 Axes>"
            ]
          },
          "metadata": {
            "tags": [],
            "needs_background": "light"
          }
        }
      ]
    },
    {
      "cell_type": "code",
      "metadata": {
        "colab": {
          "base_uri": "https://localhost:8080/",
          "height": 283
        },
        "id": "492QONM_KzP_",
        "outputId": "1870e711-4353-4728-fc00-248fd9be7bfb"
      },
      "source": [
        "np.log10(gdf.fare_amount).hist(bins=20)"
      ],
      "execution_count": null,
      "outputs": [
        {
          "output_type": "execute_result",
          "data": {
            "text/plain": [
              "<matplotlib.axes._subplots.AxesSubplot at 0x7f469d03e510>"
            ]
          },
          "metadata": {
            "tags": []
          },
          "execution_count": 33
        },
        {
          "output_type": "display_data",
          "data": {
            "image/png": "[encoded data removed]",
            "text/plain": [
              "<Figure size 432x288 with 1 Axes>"
            ]
          },
          "metadata": {
            "tags": [],
            "needs_background": "light"
          }
        }
      ]
    },
    {
      "cell_type": "code",
      "metadata": {
        "colab": {
          "base_uri": "https://localhost:8080/",
          "height": 516
        },
        "id": "fZkz6agJLeVd",
        "outputId": "df7916cd-7182-4cf4-c298-c10d267cfdc3"
      },
      "source": [
        "gdf.plot(x='uclidean_distance',y='fare_amount',style='o')"
      ],
      "execution_count": null,
      "outputs": [
        {
          "output_type": "execute_result",
          "data": {
            "text/plain": [
              "<matplotlib.axes._subplots.AxesSubplot at 0x7fe8258f6310>"
            ]
          },
          "metadata": {
            "tags": []
          },
          "execution_count": 80
        },
        {
          "output_type": "display_data",
          "data": {
            "image/png": "[encoded data removed]",
            "text/plain": [
              "<Figure size 1440x576 with 1 Axes>"
            ]
          },
          "metadata": {
            "tags": [],
            "needs_background": "light"
          }
        }
      ]
    },
    {
      "cell_type": "code",
      "metadata": {
        "colab": {
          "base_uri": "https://localhost:8080/",
          "height": 516
        },
        "id": "w3xOtSF0MTQR",
        "outputId": "b440a1e5-bb2d-4bbc-dca3-b0ce23f6f39c"
      },
      "source": [
        "gdf.plot(x='manhattan_distance',y='fare_amount',style='o')"
      ],
      "execution_count": null,
      "outputs": [
        {
          "output_type": "execute_result",
          "data": {
            "text/plain": [
              "<matplotlib.axes._subplots.AxesSubplot at 0x7fe825cc43d0>"
            ]
          },
          "metadata": {
            "tags": []
          },
          "execution_count": 81
        },
        {
          "output_type": "display_data",
          "data": {
            "image/png": "[encoded data removed]",
            "text/plain": [
              "<Figure size 1440x576 with 1 Axes>"
            ]
          },
          "metadata": {
            "tags": [],
            "needs_background": "light"
          }
        }
      ]
    },
    {
      "cell_type": "code",
      "metadata": {
        "colab": {
          "base_uri": "https://localhost:8080/",
          "height": 518
        },
        "id": "YaJ4kJofMyQs",
        "outputId": "1c45a1e7-9835-494d-e3de-bb71c6456ddd"
      },
      "source": [
        "gdf.groupby('hour').mean().plot.bar(y='fare_amount',style='bar')"
      ],
      "execution_count": null,
      "outputs": [
        {
          "output_type": "execute_result",
          "data": {
            "text/plain": [
              "<matplotlib.axes._subplots.AxesSubplot at 0x7fe825afba50>"
            ]
          },
          "metadata": {
            "tags": []
          },
          "execution_count": 82
        },
        {
          "output_type": "display_data",
          "data": {
            "image/png": "[encoded data removed]",
            "text/plain": [
              "<Figure size 1440x576 with 1 Axes>"
            ]
          },
          "metadata": {
            "tags": [],
            "needs_background": "light"
          }
        }
      ]
    },
    {
      "cell_type": "code",
      "metadata": {
        "colab": {
          "base_uri": "https://localhost:8080/"
        },
        "id": "MRM7pTpaUrag",
        "outputId": "7a75f57e-58d2-4400-d796-98d52f4d3614"
      },
      "source": [
        "import geopandas as gpd\n",
        "BBox = ((gdf.pickup_latitude.min(),gdf.pickup_longitude.min(),      \n",
        "         gdf.pickup_latitude.max(), gdf.pickup_longitude.max()))\n",
        "BBox"
      ],
      "execution_count": null,
      "outputs": [
        {
          "output_type": "execute_result",
          "data": {
            "text/plain": [
              "(40.563488, -74.1967, 41.36614, -73.13739)"
            ]
          },
          "metadata": {
            "tags": []
          },
          "execution_count": 92
        }
      ]
    },
    {
      "cell_type": "code",
      "metadata": {
        "colab": {
          "base_uri": "https://localhost:8080/"
        },
        "id": "Ah0qnjLvWqym",
        "outputId": "c82ff1e3-21ad-46f4-f295-e926a089e213"
      },
      "source": [
        "output.agg({'pickup_latitude':'min'}).show()\n",
        "output.agg({'dropoff_latitude':'min'}).show()\n",
        "output.agg({'pickup_latitude':'max'}).show()\n",
        "output.agg({'dropoff_latitude':'max'}).show()\n",
        "output.agg({'pickup_longitude':'min'}).show()\n",
        "output.agg({'dropoff_longitude':'min'}).show()\n",
        "output.agg({'pickup_longitude':'max'}).show()\n",
        "output.agg({'dropoff_longitude':'max'}).show()"
      ],
      "execution_count": null,
      "outputs": [
        {
          "output_type": "stream",
          "text": [
            "+--------------------+\n",
            "|min(pickup_latitude)|\n",
            "+--------------------+\n",
            "|           37.285007|\n",
            "+--------------------+\n",
            "\n",
            "+---------------------+\n",
            "|min(dropoff_latitude)|\n",
            "+---------------------+\n",
            "|            37.127605|\n",
            "+---------------------+\n",
            "\n",
            "+--------------------+\n",
            "|max(pickup_latitude)|\n",
            "+--------------------+\n",
            "|                42.0|\n",
            "+--------------------+\n",
            "\n",
            "+---------------------+\n",
            "|max(dropoff_latitude)|\n",
            "+---------------------+\n",
            "|             41.99665|\n",
            "+---------------------+\n",
            "\n",
            "+---------------------+\n",
            "|min(pickup_longitude)|\n",
            "+---------------------+\n",
            "|                -75.0|\n",
            "+---------------------+\n",
            "\n",
            "+----------------------+\n",
            "|min(dropoff_longitude)|\n",
            "+----------------------+\n",
            "|             -74.99701|\n",
            "+----------------------+\n",
            "\n",
            "+---------------------+\n",
            "|max(pickup_longitude)|\n",
            "+---------------------+\n",
            "|                -73.0|\n",
            "+---------------------+\n",
            "\n",
            "+----------------------+\n",
            "|max(dropoff_longitude)|\n",
            "+----------------------+\n",
            "|                 -73.0|\n",
            "+----------------------+\n",
            "\n"
          ],
          "name": "stdout"
        }
      ]
    },
    {
      "cell_type": "code",
      "metadata": {
        "id": "t61_IrCNLDKV"
      },
      "source": [
        "def get_route(pickup_longitude,pickup_latitude,dropoff_longitude,dropoff_latitude):\n",
        "\n",
        "  r = requests.get(f\"http://router.project-osrm.org/route/v1/car/{pickup_longitude},{pickup_latitude};{dropoff_longitude},{dropoff_latitude}?overview=false\"\"\")\n",
        "  # then you load the response using the json libray\n",
        "  # by default you get only one alternative so you access 0-th element of the `routes`\n",
        "  routes = json.loads(r.content)\n",
        "  distance,duration=0,0\n",
        "  if routes.get(\"routes\")!=None:\n",
        "    distance=routes.get(\"routes\")[0][\"distance\"]\n",
        "    duration=routes.get(\"routes\")[0][\"duration\"]\n",
        "  print(distance,duration)\n",
        "  return distance,duration"
      ],
      "execution_count": null,
      "outputs": []
    },
    {
      "cell_type": "code",
      "metadata": {
        "id": "nFfBalJeNkSI"
      },
      "source": [
        "import pyspark.sql.functions as F\n",
        "import utm\n",
        "from pyspark.sql.types import *\n",
        "\n",
        "utm_udf_distance = F.udf(lambda pickup_longitude,pickup_latitude,dropoff_longitude,dropoff_latitude: get_route(pickup_longitude,pickup_latitude,dropoff_longitude,dropoff_latitude)[0] , FloatType())\n",
        "utm_udf_duration = F.udf(lambda pickup_longitude,pickup_latitude,dropoff_longitude,dropoff_latitude: get_route(pickup_longitude,pickup_latitude,dropoff_longitude,dropoff_latitude)[1] , FloatType())\n",
        "\n",
        "df2 = df2.withColumn('duration',utm_udf_duration( F.col('pickup_longitude'),F.col('pickup_latitude'),F.col('dropoff_longitude'),F.col('dropoff_latitude')))\n",
        "df2 = df2.withColumn('distance',utm_udf_distance( F.col('pickup_longitude'),F.col('pickup_latitude'),F.col('dropoff_longitude'),F.col('dropoff_latitude')))\n"
      ],
      "execution_count": null,
      "outputs": []
    },
    {
      "cell_type": "code",
      "metadata": {
        "id": "7URGAnaVQbHy"
      },
      "source": [
        "df2=df2.drop('duration')\n",
        "df2=df2.drop('distance')"
      ],
      "execution_count": null,
      "outputs": []
    },
    {
      "cell_type": "code",
      "metadata": {
        "id": "SpLeV_5hKqWi",
        "colab": {
          "base_uri": "https://localhost:8080/"
        },
        "outputId": "551f8916-d937-4b98-ec1b-aa565cc65c39"
      },
      "source": [
        "df2.tail(10)"
      ],
      "execution_count": null,
      "outputs": [
        {
          "output_type": "execute_result",
          "data": {
            "text/plain": [
              "[Row(key=190, fare_amount=6.9, pickup_datetime=datetime.datetime(2009, 2, 11, 15, 59), pickup_longitude=-73.994194, pickup_latitude=40.75114, dropoff_longitude=-73.97478, dropoff_latitude=40.75542, passenger_count=5, pickup_lon_utm=584907.8125, pickup_lat_utm=4511618.5, dropoff_lon_utm=586541.1875, dropoff_lat_utm=4512112.5, manhattan_distance=2127.375, uclidean_distance=1706.4436382796239, duration=227.8000030517578, distance=None),\n",
              " Row(key=191, fare_amount=19.7, pickup_datetime=datetime.datetime(2012, 1, 4, 18, 30), pickup_longitude=-74.0104, pickup_latitude=40.71137, dropoff_longitude=-73.943275, dropoff_latitude=40.77732, passenger_count=1, pickup_lon_utm=583589.5, pickup_lat_utm=4507188.0, dropoff_lon_utm=589171.375, dropoff_lat_utm=4514575.0, manhattan_distance=12968.875, uclidean_distance=9258.784883321623, duration=842.7000122070312, distance=12838.2998046875),\n",
              " Row(key=192, fare_amount=9.3, pickup_datetime=datetime.datetime(2009, 2, 14, 19, 53), pickup_longitude=-73.981026, pickup_latitude=40.735546, dropoff_longitude=-73.981026, dropoff_latitude=40.735546, passenger_count=1, pickup_lon_utm=586039.5625, pickup_lat_utm=4509900.0, dropoff_lon_utm=586039.5625, dropoff_lat_utm=4509900.0, manhattan_distance=0.0, uclidean_distance=0.0, duration=None, distance=None),\n",
              " Row(key=193, fare_amount=10.1, pickup_datetime=datetime.datetime(2009, 5, 30, 17, 35, 58), pickup_longitude=-73.99037, pickup_latitude=40.73173, dropoff_longitude=-73.96805, dropoff_latitude=40.76536, passenger_count=1, pickup_lon_utm=585255.4375, pickup_lat_utm=4509467.5, dropoff_lon_utm=587096.3125, dropoff_lat_utm=4513222.5, manhattan_distance=5595.875, uclidean_distance=4181.966734160495, duration=487.29998779296875, distance=4324.7001953125),\n",
              " Row(key=194, fare_amount=6.9, pickup_datetime=datetime.datetime(2010, 11, 3, 8, 47, 5), pickup_longitude=-73.98533, pickup_latitude=40.744514, dropoff_longitude=-73.9733, dropoff_latitude=40.76061, passenger_count=1, pickup_lon_utm=585664.625, pickup_lat_utm=4510891.5, dropoff_lon_utm=586659.375, dropoff_lat_utm=4512690.0, manhattan_distance=2793.25, uclidean_distance=2055.2687932482213, duration=213.10000610351562, distance=2057.199951171875),\n",
              " Row(key=195, fare_amount=15.7, pickup_datetime=datetime.datetime(2012, 7, 25, 15, 18, 26), pickup_longitude=-73.99346, pickup_latitude=40.736595, dropoff_longitude=-73.980064, dropoff_latitude=40.78605, passenger_count=1, pickup_lon_utm=584988.3125, pickup_lat_utm=4510004.5, dropoff_lon_utm=586055.625, dropoff_lat_utm=4515507.5, manhattan_distance=6570.3125, uclidean_distance=5605.5476960468595, duration=718.2000122070312, distance=6732.60009765625),\n",
              " Row(key=196, fare_amount=28.5, pickup_datetime=datetime.datetime(2013, 10, 12, 11, 43, 40), pickup_longitude=-73.987206, pickup_latitude=40.75062, dropoff_longitude=-73.93098, dropoff_latitude=40.865337, passenger_count=2, pickup_lon_utm=585498.4375, pickup_lat_utm=4511567.5, dropoff_lon_utm=590089.6875, dropoff_lat_utm=4524358.5, manhattan_distance=17382.25, uclidean_distance=13590.042588693384, duration=864.5999755859375, distance=15254.7998046875),\n",
              " Row(key=197, fare_amount=17.0, pickup_datetime=datetime.datetime(2013, 9, 13, 15, 17, 28), pickup_longitude=-73.97088, pickup_latitude=40.788425, dropoff_longitude=-73.97645, dropoff_latitude=40.753666, passenger_count=1, pickup_lon_utm=586827.4375, pickup_lat_utm=4515780.0, dropoff_lon_utm=586402.5, dropoff_lat_utm=4511916.0, manhattan_distance=4288.9375, uclidean_distance=3887.2957025297483, duration=606.2999877929688, distance=6607.2001953125),\n",
              " Row(key=198, fare_amount=5.3, pickup_datetime=datetime.datetime(2011, 2, 23, 8, 5), pickup_longitude=-73.98609, pickup_latitude=40.768944, dropoff_longitude=-73.98501, dropoff_latitude=40.76, passenger_count=1, pickup_lon_utm=585569.125, pickup_lat_utm=4513602.5, dropoff_lon_utm=585671.75, dropoff_lat_utm=4512611.0, manhattan_distance=1094.125, uclidean_distance=996.7969405174757, duration=125.80000305175781, distance=1374.5),\n",
              " Row(key=199, fare_amount=45.0, pickup_datetime=datetime.datetime(2012, 5, 1, 6, 9, 33), pickup_longitude=-73.97895, pickup_latitude=40.763355, dropoff_longitude=-73.78852, dropoff_latitude=40.644863, passenger_count=1, pickup_lon_utm=586178.9375, pickup_lat_utm=4512989.0, dropoff_lon_utm=602433.375, dropoff_lat_utm=4500040.0, manhattan_distance=29203.4375, uclidean_distance=20781.80308446325, duration=1532.699951171875, distance=27058.30078125)]"
            ]
          },
          "metadata": {
            "tags": []
          },
          "execution_count": 101
        }
      ]
    },
    {
      "cell_type": "code",
      "metadata": {
        "colab": {
          "base_uri": "https://localhost:8080/"
        },
        "id": "UTdh0TxyYbzQ",
        "outputId": "65758412-b46b-422f-ce3b-8586cadc32be"
      },
      "source": [
        "y_train=(y_train>10).astype(int)\n",
        "from xgboost import XGBClassifier\n",
        "classifier = XGBClassifier()\n",
        "classifier.fit(X_train, y_train)"
      ],
      "execution_count": null,
      "outputs": [
        {
          "output_type": "execute_result",
          "data": {
            "text/plain": [
              "XGBClassifier(base_score=0.5, booster='gbtree', colsample_bylevel=1,\n",
              "              colsample_bynode=1, colsample_bytree=1, gamma=0,\n",
              "              learning_rate=0.1, max_delta_step=0, max_depth=3,\n",
              "              min_child_weight=1, missing=None, n_estimators=100, n_jobs=1,\n",
              "              nthread=None, objective='binary:logistic', random_state=0,\n",
              "              reg_alpha=0, reg_lambda=1, scale_pos_weight=1, seed=None,\n",
              "              silent=None, subsample=1, verbosity=1)"
            ]
          },
          "metadata": {
            "tags": []
          },
          "execution_count": 9
        }
      ]
    },
    {
      "cell_type": "code",
      "metadata": {
        "colab": {
          "base_uri": "https://localhost:8080/"
        },
        "id": "gbRkHcPha8qZ",
        "outputId": "039a2df4-3fd4-49a7-dc84-238aa8e787be"
      },
      "source": [
        "y_train=(y_train>10).astype(int)\n",
        "from sklearn.svm import SVC\n",
        "classifier = SVC(kernel = 'rbf', random_state = 0)\n",
        "classifier.fit(X_train, y_train)"
      ],
      "execution_count": null,
      "outputs": [
        {
          "output_type": "execute_result",
          "data": {
            "text/plain": [
              "SVC(C=1.0, break_ties=False, cache_size=200, class_weight=None, coef0=0.0,\n",
              "    decision_function_shape='ovr', degree=3, gamma='scale', kernel='rbf',\n",
              "    max_iter=-1, probability=False, random_state=0, shrinking=True, tol=0.001,\n",
              "    verbose=False)"
            ]
          },
          "metadata": {
            "tags": []
          },
          "execution_count": 21
        }
      ]
    },
    {
      "cell_type": "code",
      "metadata": {
        "colab": {
          "base_uri": "https://localhost:8080/"
        },
        "id": "9aSiBAIBc3nt",
        "outputId": "a071fc92-d281-459e-c4f3-c6968df18017"
      },
      "source": [
        "from sklearn.model_selection import GridSearchCV\n",
        "parameters = [{'C':[0.25,0.5,0.75,1.0],'kernel':['liner']},\n",
        "              {'C':[0.25,0.5,0.75,1.0],'kernel':['rbf'],'gamma':[0.1,0.2,0.3,0.4,0.5,0.6,0.7,0.8,0.9]}]#list(np.arange(0.1,0.9,0.1))}]\n",
        "grid_search = GridSearchCV(estimator = classifier, param_grid=parameters, scoring='accuracy',cv=10,n_jobs=-1)\n",
        "grid_search.fit(X_train,y_train)\n",
        "best_accuracy = grid_search.best_score_\n",
        "best_paramters = grid_search.best_params_\n",
        "print(\"Accuracy: {:.2f} %\".format(best_accuracy*100))\n",
        "print(f\"Best Paramters: {best_paramters}\")"
      ],
      "execution_count": null,
      "outputs": [
        {
          "output_type": "stream",
          "text": [
            "/usr/local/lib/python3.7/dist-packages/joblib/externals/loky/process_executor.py:691: UserWarning: A worker stopped while some jobs were given to the executor. This can be caused by a too short worker timeout or by a memory leak.\n",
            "  \"timeout or by a memory leak.\", UserWarning\n"
          ],
          "name": "stderr"
        },
        {
          "output_type": "stream",
          "text": [
            "Accuracy: 88.60 %\n",
            "Best Paramters: {'C': 1.0, 'gamma': 0.9, 'kernel': 'rbf'}\n"
          ],
          "name": "stdout"
        }
      ]
    },
    {
      "cell_type": "code",
      "metadata": {
        "colab": {
          "base_uri": "https://localhost:8080/"
        },
        "id": "yG-GbCl9e1TH",
        "outputId": "d6fbff62-c516-45e6-cd40-2371a8993ea7"
      },
      "source": [
        "\n",
        "from sklearn.linear_model import LinearRegression\n",
        "regressor =  LinearRegression()\n",
        "regressor.fit(X_train,y_train)\n",
        "# y_train=sc_y.inverse_transform(y_train)"
      ],
      "execution_count": null,
      "outputs": [
        {
          "output_type": "execute_result",
          "data": {
            "text/plain": [
              "LinearRegression(copy_X=True, fit_intercept=True, n_jobs=None, normalize=False)"
            ]
          },
          "metadata": {
            "tags": []
          },
          "execution_count": 67
        }
      ]
    },
    {
      "cell_type": "code",
      "metadata": {
        "colab": {
          "base_uri": "https://localhost:8080/"
        },
        "id": "iuJm9wpUNGg6",
        "outputId": "c17ad4ee-5232-43f6-f0c7-0e251707663f"
      },
      "source": [
        "from sklearn.tree import DecisionTreeRegressor\n",
        "regressor = DecisionTreeRegressor(random_state=42,max_depth=8)\n",
        "regressor.fit(X_train,y_train)"
      ],
      "execution_count": null,
      "outputs": [
        {
          "output_type": "execute_result",
          "data": {
            "text/plain": [
              "DecisionTreeRegressor(ccp_alpha=0.0, criterion='mse', max_depth=8,\n",
              "                      max_features=None, max_leaf_nodes=None,\n",
              "                      min_impurity_decrease=0.0, min_impurity_split=None,\n",
              "                      min_samples_leaf=1, min_samples_split=2,\n",
              "                      min_weight_fraction_leaf=0.0, presort='deprecated',\n",
              "                      random_state=42, splitter='best')"
            ]
          },
          "metadata": {
            "tags": []
          },
          "execution_count": 95
        }
      ]
    },
    {
      "cell_type": "code",
      "metadata": {
        "colab": {
          "base_uri": "https://localhost:8080/"
        },
        "id": "9fPnN52JF5x5",
        "outputId": "69f113d3-0889-4d98-ee34-20274adf6193"
      },
      "source": [
        "y_pred1 = regressor.predict(X_train)\n",
        "r2_score(y_train, y_pred1)"
      ],
      "execution_count": null,
      "outputs": [
        {
          "output_type": "execute_result",
          "data": {
            "text/plain": [
              "0.842818535091255"
            ]
          },
          "metadata": {
            "tags": []
          },
          "execution_count": 97
        }
      ]
    },
    {
      "cell_type": "code",
      "metadata": {
        "colab": {
          "base_uri": "https://localhost:8080/"
        },
        "id": "1owmXmjWDVRV",
        "outputId": "8e1d8a26-848e-419b-cf2c-5ae0f74b4671"
      },
      "source": [
        "y_class=y_train>10\n",
        "y_pred_class=y_pred>10\n",
        "cm = confusion_matrix(y_class, y_pred_class)\n",
        "print(cm)\n",
        "accuracy_score(y_class, y_pred_class)"
      ],
      "execution_count": null,
      "outputs": [
        {
          "output_type": "stream",
          "text": [
            "[[58258  4146]\n",
            " [ 7819 29777]]\n"
          ],
          "name": "stdout"
        },
        {
          "output_type": "execute_result",
          "data": {
            "text/plain": [
              "0.88035"
            ]
          },
          "metadata": {
            "tags": []
          },
          "execution_count": 11
        }
      ]
    },
    {
      "cell_type": "code",
      "metadata": {
        "colab": {
          "base_uri": "https://localhost:8080/"
        },
        "id": "XbjnotOIZo0o",
        "outputId": "9e7fb245-42b2-4775-dcc6-5b2047c9167f"
      },
      "source": [
        "y_class=y_train\n",
        "y_pred_class=classifier.predict(X_train)\n",
        "cm = confusion_matrix(y_class, y_pred_class)\n",
        "print(cm)\n",
        "accuracy_score(y_class, y_pred_class)"
      ],
      "execution_count": null,
      "outputs": [
        {
          "output_type": "stream",
          "text": [
            "[[59257  3147]\n",
            " [ 8586 29010]]\n"
          ],
          "name": "stdout"
        },
        {
          "output_type": "execute_result",
          "data": {
            "text/plain": [
              "0.88267"
            ]
          },
          "metadata": {
            "tags": []
          },
          "execution_count": 22
        }
      ]
    },
    {
      "cell_type": "code",
      "metadata": {
        "colab": {
          "base_uri": "https://localhost:8080/"
        },
        "id": "MSbSq7_OZucO",
        "outputId": "a9dbe27c-fdd4-4e58-aa45-6da26ab13681"
      },
      "source": [
        "y_class=(y_test>10).astype(int)\n",
        "y_pred_class=classifier.predict(X_test)\n",
        "cm = confusion_matrix(y_class, y_pred_class)\n",
        "print(cm)\n",
        "accuracy_score(y_class, y_pred_class)"
      ],
      "execution_count": null,
      "outputs": [
        {
          "output_type": "stream",
          "text": [
            "[[59463  3163]\n",
            " [ 8811 28563]]\n"
          ],
          "name": "stdout"
        },
        {
          "output_type": "execute_result",
          "data": {
            "text/plain": [
              "0.88026"
            ]
          },
          "metadata": {
            "tags": []
          },
          "execution_count": 23
        }
      ]
    },
    {
      "cell_type": "code",
      "metadata": {
        "colab": {
          "base_uri": "https://localhost:8080/"
        },
        "id": "3N-5sMLh8du9",
        "outputId": "2115b74c-3668-4a73-f54a-07384a94b9a8"
      },
      "source": [
        "y_pred = regressor.predict(X_test)\n",
        "r2_score(y_test, y_pred)"
      ],
      "execution_count": null,
      "outputs": [
        {
          "output_type": "execute_result",
          "data": {
            "text/plain": [
              "0.8068522508646816"
            ]
          },
          "metadata": {
            "tags": []
          },
          "execution_count": 99
        }
      ]
    },
    {
      "cell_type": "code",
      "metadata": {
        "colab": {
          "base_uri": "https://localhost:8080/"
        },
        "id": "qhnbgbG491rI",
        "outputId": "79683103-5ffc-4567-8529-55b4270dc3d5"
      },
      "source": [
        "y_class=y_test>10\n",
        "y_pred_class=y_pred>10\n",
        "cm = confusion_matrix(y_class, y_pred_class)\n",
        "print(cm)\n",
        "accuracy_score(y_class, y_pred_class)"
      ],
      "execution_count": null,
      "outputs": [
        {
          "output_type": "stream",
          "text": [
            "[[56847  5779]\n",
            " [ 7190 30184]]\n"
          ],
          "name": "stdout"
        },
        {
          "output_type": "execute_result",
          "data": {
            "text/plain": [
              "0.87031"
            ]
          },
          "metadata": {
            "tags": []
          },
          "execution_count": 100
        }
      ]
    },
    {
      "cell_type": "code",
      "metadata": {
        "colab": {
          "base_uri": "https://localhost:8080/"
        },
        "id": "i6XX3DQBSRGK",
        "outputId": "1c97dee0-7c4a-4cb3-99a4-0dfbeb99819e"
      },
      "source": [
        "!ls -la\n"
      ],
      "execution_count": null,
      "outputs": [
        {
          "output_type": "stream",
          "text": [
            "total 511682\n",
            "-rw------- 1 root root    738918 Jul 15 07:04 idc_test.csv\n",
            "-rw------- 1 root root 503059860 Jul 15 07:22 idc_train.parquet\n",
            "-rw------- 1 root root        62 Jul 15 05:59 kaggle.json\n",
            "-rw------- 1 root root  20161578 Jul 15 16:10 samp.parquet\n"
          ],
          "name": "stdout"
        }
      ]
    },
    {
      "cell_type": "code",
      "metadata": {
        "id": "l1D7Cx3bM0TI"
      },
      "source": [
        "df=pd.read_csv('idc_test.csv')\n",
        "df['pickup_utm_lat'],df['pickup_utm_lon'],df['dropoff_utm_lat'],df['dropoff_utm_lon']=zip(*df.apply(lambda row: get_utm(row), axis=1))\n",
        "df['distance']=df.apply(lambda row: get_distance(row),axis=1)\n",
        "df['utm_dist']=(np.abs(df['pickup_utm_lat']-df['dropoff_utm_lat'])+np.abs(df['pickup_utm_lon']-df['dropoff_utm_lon']))/1000\n",
        "df['pickup_datetime']=df['pickup_datetime'].apply(pd.to_datetime)\n",
        "X=df[['utm_dist','passenger_count', 'distance', 'pickup_utm_lat', 'pickup_utm_lon','dropoff_utm_lat', 'dropoff_utm_lon']].values\n",
        "# X = poly_reg.fit_transform(X)\n",
        "X= sc_X.transform(X)\n",
        "df['fare_amount'] = regressor.predict(X)\n",
        "df['high_fare']=(df['fare_amount']>10).astype(int)\n",
        "df[['key','high_fare']].to_csv('submission.csv',index=False)\n"
      ],
      "execution_count": null,
      "outputs": []
    },
    {
      "cell_type": "code",
      "metadata": {
        "colab": {
          "base_uri": "https://localhost:8080/"
        },
        "id": "-Q-sNh10WOMX",
        "outputId": "7e4c72ac-bb24-45d3-e0db-dcafb193782e"
      },
      "source": [
        "!kaggle competitions submit -c idc-big-data-platforms-2021-ml-competition -f submission.csv -m \"DecisionTreeRegressor\""
      ],
      "execution_count": null,
      "outputs": [
        {
          "output_type": "stream",
          "text": [
            "Warning: Looks like you're using an outdated API Version, please consider updating (server 1.5.12 / client 1.5.4)\n",
            "100% 107k/107k [00:00<00:00, 301kB/s]\n",
            "Successfully submitted to IDC Big Data Platforms 2021 ML Competition"
          ],
          "name": "stdout"
        }
      ]
    },
    {
      "cell_type": "code",
      "metadata": {
        "id": "amfF0a8lxtXs"
      },
      "source": [
        "from pyspark.ml.classification import LogisticRegression\n",
        "lr = LogisticRegression()\n",
        "lr_model =lr.fit(train_data)\n",
        "test_results= lr_model.evaluate(test_data)\n",
        "preds_and_labels = test_results.predictions.select(['prediction','label'])\n",
        "metrics = MulticlassMetrics(preds_and_labels.rdd.map(tuple))\n",
        "print(f\"Logistic Regression AUC: {test_results.areaUnderROC}\")\n",
        "cm =pd.DataFrame(metrics.confusionMatrix().toArray())\n",
        "cm.index.rename('label',inplace=True)\n",
        "cm.columns.rename('prediction',inplace=True)\n",
        "print(cm)"
      ],
      "execution_count": null,
      "outputs": []
    },
    {
      "cell_type": "code",
      "metadata": {
        "colab": {
          "base_uri": "https://localhost:8080/",
          "height": 521
        },
        "id": "druuUFPnqMd9",
        "outputId": "b27473ed-b791-4701-b459-4e56c2c1a336"
      },
      "source": [
        "count1=sum((gdf.fare_amount>=10)&~gdf.all0)\n",
        "count0=sum((gdf.fare_amount<10)&~gdf.all0)\n",
        "print(count0,count1,count0/len(gdf),count1/len(gdf))\n",
        "gdf['all0']=(gdf['pickup_longitude']==0)&(gdf['pickup_latitude']==0)&(gdf['dropoff_longitude']==0)&(gdf['dropoff_latitude']==0)\n",
        "print(sum(gdf['all0']))\n",
        "print(len(gdf))\n",
        "ax=gdf[~gdf['all0']].plot(x='pickup_datetime',y='fare_amount')\n",
        "gdf['label']=(gdf['fare_amount']>10).astype('Int32')"
      ],
      "execution_count": null,
      "outputs": [
        {
          "output_type": "stream",
          "text": [
            "19722 16500 0.049551269810960474 0.04145603650141202\n",
            "361790\n",
            "398012\n"
          ],
          "name": "stdout"
        },
        {
          "output_type": "display_data",
          "data": {
            "image/png": "[encoded data removed]",
            "text/plain": [
              "<Figure size 1440x576 with 1 Axes>"
            ]
          },
          "metadata": {
            "tags": [],
            "needs_background": "light"
          }
        }
      ]
    },
    {
      "cell_type": "code",
      "metadata": {
        "colab": {
          "base_uri": "https://localhost:8080/",
          "height": 407
        },
        "id": "LTCRaSoEs2Iz",
        "outputId": "bafa5f20-9ca1-4499-de0a-f18d26823ba3"
      },
      "source": [
        "gdf"
      ],
      "execution_count": null,
      "outputs": [
        {
          "output_type": "execute_result",
          "data": {
            "text/html": [
              "<div>\n",
              "<style scoped>\n",
              "    .dataframe tbody tr th:only-of-type {\n",
              "        vertical-align: middle;\n",
              "    }\n",
              "\n",
              "    .dataframe tbody tr th {\n",
              "        vertical-align: top;\n",
              "    }\n",
              "\n",
              "    .dataframe thead th {\n",
              "        text-align: right;\n",
              "    }\n",
              "</style>\n",
              "<table border=\"1\" class=\"dataframe\">\n",
              "  <thead>\n",
              "    <tr style=\"text-align: right;\">\n",
              "      <th></th>\n",
              "      <th>key</th>\n",
              "      <th>fare_amount</th>\n",
              "      <th>pickup_datetime</th>\n",
              "      <th>pickup_longitude</th>\n",
              "      <th>pickup_latitude</th>\n",
              "      <th>dropoff_longitude</th>\n",
              "      <th>dropoff_latitude</th>\n",
              "      <th>passenger_count</th>\n",
              "      <th>all0</th>\n",
              "      <th>label</th>\n",
              "    </tr>\n",
              "  </thead>\n",
              "  <tbody>\n",
              "    <tr>\n",
              "      <th>0</th>\n",
              "      <td>130</td>\n",
              "      <td>6.9</td>\n",
              "      <td>2010-05-20 08:53:34</td>\n",
              "      <td>0.0</td>\n",
              "      <td>0.0</td>\n",
              "      <td>0.0</td>\n",
              "      <td>0.0</td>\n",
              "      <td>1</td>\n",
              "      <td>True</td>\n",
              "      <td>0</td>\n",
              "    </tr>\n",
              "    <tr>\n",
              "      <th>1</th>\n",
              "      <td>157</td>\n",
              "      <td>55.0</td>\n",
              "      <td>2014-03-04 11:53:00</td>\n",
              "      <td>0.0</td>\n",
              "      <td>0.0</td>\n",
              "      <td>0.0</td>\n",
              "      <td>0.0</td>\n",
              "      <td>2</td>\n",
              "      <td>True</td>\n",
              "      <td>1</td>\n",
              "    </tr>\n",
              "    <tr>\n",
              "      <th>2</th>\n",
              "      <td>186</td>\n",
              "      <td>9.3</td>\n",
              "      <td>2009-12-11 09:37:00</td>\n",
              "      <td>0.0</td>\n",
              "      <td>0.0</td>\n",
              "      <td>0.0</td>\n",
              "      <td>0.0</td>\n",
              "      <td>1</td>\n",
              "      <td>True</td>\n",
              "      <td>0</td>\n",
              "    </tr>\n",
              "    <tr>\n",
              "      <th>3</th>\n",
              "      <td>285</td>\n",
              "      <td>25.7</td>\n",
              "      <td>2012-07-01 23:44:24</td>\n",
              "      <td>0.0</td>\n",
              "      <td>0.0</td>\n",
              "      <td>0.0</td>\n",
              "      <td>0.0</td>\n",
              "      <td>2</td>\n",
              "      <td>True</td>\n",
              "      <td>1</td>\n",
              "    </tr>\n",
              "    <tr>\n",
              "      <th>4</th>\n",
              "      <td>392</td>\n",
              "      <td>41.0</td>\n",
              "      <td>2014-01-30 17:17:46</td>\n",
              "      <td>0.0</td>\n",
              "      <td>0.0</td>\n",
              "      <td>0.0</td>\n",
              "      <td>0.0</td>\n",
              "      <td>1</td>\n",
              "      <td>True</td>\n",
              "      <td>1</td>\n",
              "    </tr>\n",
              "    <tr>\n",
              "      <th>...</th>\n",
              "      <td>...</td>\n",
              "      <td>...</td>\n",
              "      <td>...</td>\n",
              "      <td>...</td>\n",
              "      <td>...</td>\n",
              "      <td>...</td>\n",
              "      <td>...</td>\n",
              "      <td>...</td>\n",
              "      <td>...</td>\n",
              "      <td>...</td>\n",
              "    </tr>\n",
              "    <tr>\n",
              "      <th>398007</th>\n",
              "      <td>19989914</td>\n",
              "      <td>7.7</td>\n",
              "      <td>2011-07-21 10:20:00</td>\n",
              "      <td>0.0</td>\n",
              "      <td>0.0</td>\n",
              "      <td>0.0</td>\n",
              "      <td>0.0</td>\n",
              "      <td>1</td>\n",
              "      <td>True</td>\n",
              "      <td>0</td>\n",
              "    </tr>\n",
              "    <tr>\n",
              "      <th>398008</th>\n",
              "      <td>19989916</td>\n",
              "      <td>13.5</td>\n",
              "      <td>2013-11-20 19:30:00</td>\n",
              "      <td>0.0</td>\n",
              "      <td>0.0</td>\n",
              "      <td>0.0</td>\n",
              "      <td>0.0</td>\n",
              "      <td>5</td>\n",
              "      <td>True</td>\n",
              "      <td>1</td>\n",
              "    </tr>\n",
              "    <tr>\n",
              "      <th>398009</th>\n",
              "      <td>19989922</td>\n",
              "      <td>6.5</td>\n",
              "      <td>2012-02-09 10:15:00</td>\n",
              "      <td>0.0</td>\n",
              "      <td>0.0</td>\n",
              "      <td>0.0</td>\n",
              "      <td>0.0</td>\n",
              "      <td>1</td>\n",
              "      <td>True</td>\n",
              "      <td>0</td>\n",
              "    </tr>\n",
              "    <tr>\n",
              "      <th>398010</th>\n",
              "      <td>19989945</td>\n",
              "      <td>11.5</td>\n",
              "      <td>2013-06-26 21:03:50</td>\n",
              "      <td>0.0</td>\n",
              "      <td>0.0</td>\n",
              "      <td>0.0</td>\n",
              "      <td>0.0</td>\n",
              "      <td>1</td>\n",
              "      <td>True</td>\n",
              "      <td>1</td>\n",
              "    </tr>\n",
              "    <tr>\n",
              "      <th>398011</th>\n",
              "      <td>19989975</td>\n",
              "      <td>6.1</td>\n",
              "      <td>2010-02-22 16:42:00</td>\n",
              "      <td>0.0</td>\n",
              "      <td>0.0</td>\n",
              "      <td>0.0</td>\n",
              "      <td>0.0</td>\n",
              "      <td>1</td>\n",
              "      <td>True</td>\n",
              "      <td>0</td>\n",
              "    </tr>\n",
              "  </tbody>\n",
              "</table>\n",
              "<p>398012 rows × 10 columns</p>\n",
              "</div>"
            ],
            "text/plain": [
              "             key  fare_amount     pickup_datetime  ...  passenger_count  all0  label\n",
              "0            130          6.9 2010-05-20 08:53:34  ...                1  True      0\n",
              "1            157         55.0 2014-03-04 11:53:00  ...                2  True      1\n",
              "2            186          9.3 2009-12-11 09:37:00  ...                1  True      0\n",
              "3            285         25.7 2012-07-01 23:44:24  ...                2  True      1\n",
              "4            392         41.0 2014-01-30 17:17:46  ...                1  True      1\n",
              "...          ...          ...                 ...  ...              ...   ...    ...\n",
              "398007  19989914          7.7 2011-07-21 10:20:00  ...                1  True      0\n",
              "398008  19989916         13.5 2013-11-20 19:30:00  ...                5  True      1\n",
              "398009  19989922          6.5 2012-02-09 10:15:00  ...                1  True      0\n",
              "398010  19989945         11.5 2013-06-26 21:03:50  ...                1  True      1\n",
              "398011  19989975          6.1 2010-02-22 16:42:00  ...                1  True      0\n",
              "\n",
              "[398012 rows x 10 columns]"
            ]
          },
          "metadata": {
            "tags": []
          },
          "execution_count": 64
        }
      ]
    }
  ]
}